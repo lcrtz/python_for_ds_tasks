{
  "nbformat": 4,
  "nbformat_minor": 0,
  "metadata": {
    "colab": {
      "provenance": []
    },
    "kernelspec": {
      "name": "python3",
      "display_name": "Python 3"
    },
    "language_info": {
      "name": "python"
    }
  },
  "cells": [
    {
      "cell_type": "markdown",
      "source": [
        "В цьому домашньому завданні відпрацюємо з вами знання, отримані в модулі зі статистики.\n",
        "\n",
        "**Завдання 1.** Ми обговорили з Вами на лекції, що велика літера Сігма грецького алфавіту позначає в математиці суму. Знайдіть з використанням Python $\\Sigma x$, $\\Sigma x^2$, та $\\Sigma (x-1)^2$ для наступного набору даних:\n",
        "`1 3 4`\n",
        "Виведіть результат кожного обчислення на екран."
      ],
      "metadata": {
        "id": "SDhaTqxcWhnP"
      }
    },
    {
      "cell_type": "code",
      "source": [
        "x = [1, 3, 4]\n",
        "sum_x = sum(x)\n",
        "sum_square_x = sum(num**2 for num in x)\n",
        "sum_square_x_minus_one = sum( (num - 1)**2 for num in x)\n",
        "\n",
        "sum_x, sum_square_x, sum_square_x_minus_one"
      ],
      "metadata": {
        "id": "B1mgx_IBT0e8",
        "colab": {
          "base_uri": "https://localhost:8080/"
        },
        "outputId": "2f79e1f0-cdd4-4d9c-b0e2-392a0484f874"
      },
      "execution_count": 1,
      "outputs": [
        {
          "output_type": "execute_result",
          "data": {
            "text/plain": [
              "(8, 26, 13)"
            ]
          },
          "metadata": {},
          "execution_count": 1
        }
      ]
    },
    {
      "cell_type": "markdown",
      "source": [
        "**Завдання 2.** Ми зібрали дані про суму покупок в гривнях 20ма випадково обраними клієнтами в нашому магазині (всього клієнтів у нас більше) за минулий місяць. Вони представлені в змінній `sum_purchases`. Знайдіть **вибіркове середнє** для цих даних кожним з зазначених методів:   \n",
        "\n",
        "  2.1. без використання жодних бібліотек, користуючись тільки Python.  \n",
        "  2.2. використовуючи відповідний метод бібліотеки `numpy`.\n",
        "\n",
        "  Виведіть результат обчислень в кожному з випадків на екран та порівняйте результати. Вони співпадають?"
      ],
      "metadata": {
        "id": "fa78aW5lhiia"
      }
    },
    {
      "cell_type": "code",
      "execution_count": 2,
      "metadata": {
        "id": "_9kMt3rq6V5m"
      },
      "outputs": [],
      "source": [
        "sum_purchases = [ 316,  493,  367,  153,  224,  121,  322,  450,  196,  397,  281,\n",
        "  239,  484,  124,  223,  448,  432,  255, 4310, 3524]"
      ]
    },
    {
      "cell_type": "code",
      "source": [
        "import numpy as np\n",
        "\n",
        "mean_python = sum(sum_purchases) / len(sum_purchases)\n",
        "mean_np = np.mean(sum_purchases)\n",
        "\n",
        "mean_python, mean_np"
      ],
      "metadata": {
        "id": "wPmL919HT1c0",
        "colab": {
          "base_uri": "https://localhost:8080/"
        },
        "outputId": "af9b34fb-b5eb-41da-b76a-b9a7e06b3238"
      },
      "execution_count": 3,
      "outputs": [
        {
          "output_type": "execute_result",
          "data": {
            "text/plain": [
              "(667.95, 667.95)"
            ]
          },
          "metadata": {},
          "execution_count": 3
        }
      ]
    },
    {
      "cell_type": "markdown",
      "source": [
        "**Завдання 3.** Для того ж набору даних в змінній `ages` обчисліть **медіану** кожним з зазначених методів:  \n",
        "\n",
        "  3.1. без використання жодних бібліотек, користуючись тільки Python.  \n",
        "  3.2. використовуючи відповідний метод бібліотеки numpy.  \n",
        "\n",
        "Виведіть результат обчислень в кожному з випадків на екран. Порівняйте результати зі значенням вибіркового середнього. Напишіть коментар, для яких задач ви б використовували вибіркове середнє, а для яких - медіану?"
      ],
      "metadata": {
        "id": "FMdoxZd0kZdW"
      }
    },
    {
      "cell_type": "code",
      "source": [
        "sorted_data = sorted(sum_purchases)\n",
        "n = len(sorted_data)\n",
        "\n",
        "median_python = (sorted_data[n//2] if n % 2 != 0 else (sorted_data[n//2 - 1] + sorted_data[n//2]) / 2)\n",
        "\n",
        "median_np = np.median(sum_purchases)\n",
        "\n",
        "median_python, median_np\n"
      ],
      "metadata": {
        "id": "x58BumvuT2nl",
        "colab": {
          "base_uri": "https://localhost:8080/"
        },
        "outputId": "66d5114c-0eca-4a6f-aab3-5b157e602743"
      },
      "execution_count": 7,
      "outputs": [
        {
          "output_type": "execute_result",
          "data": {
            "text/plain": [
              "(319.0, 319.0)"
            ]
          },
          "metadata": {},
          "execution_count": 7
        }
      ]
    },
    {
      "cell_type": "markdown",
      "source": [
        "**Завдання 4**. Обчислість стандартне відхилення наведеної вибірки в змінній `sum_purchases` кожним з зазначених методів:  \n",
        "\n",
        "  4.1. без використання жодних бібліотек, користуючись тільки Python.  \n",
        "  4.2. використовуючи відповідний метод бібліотеки numpy.  \n",
        "\n",
        "Виведіть результат обчислень в кожному з випадків на екран."
      ],
      "metadata": {
        "id": "o1Z7az2yNDQV"
      }
    },
    {
      "cell_type": "code",
      "source": [
        "variance = sum((x - mean_python) ** 2 for x in sum_purchases) / (len(sum_purchases) - 1)\n",
        "std_python = variance ** 0.5\n",
        "\n",
        "std_np = np.std(sum_purchases, ddof=1)\n",
        "\n",
        "std_python, std_np"
      ],
      "metadata": {
        "id": "X4ixtmL2T642",
        "colab": {
          "base_uri": "https://localhost:8080/"
        },
        "outputId": "155f68c3-ab04-4f0f-f23b-501b33d08ed7"
      },
      "execution_count": 27,
      "outputs": [
        {
          "output_type": "execute_result",
          "data": {
            "text/plain": [
              "(1124.5433447451132, 1124.5433447451132)"
            ]
          },
          "metadata": {},
          "execution_count": 27
        }
      ]
    },
    {
      "cell_type": "markdown",
      "source": [
        "**Завдання 5**. Ми провели дослідження віку студентів-першокурсників. Виявилось, що\n",
        "- 10 студентів мають вік 16 років\n",
        "- 25 студентів - 17 років\n",
        "- 20 студентів - 18 років\n",
        "- 2 студенти - 20 років\n",
        "\n",
        "Обчислість середнє значення для цієї вибірки будь-яким способом - на чистому Python або з numpy - та виведіть результат на екран."
      ],
      "metadata": {
        "id": "M1ntKTjXLVlH"
      }
    },
    {
      "cell_type": "code",
      "source": [
        "age_students = { 16: 10, 17: 25, 18: 20, 20: 2 }\n",
        "\n",
        "total_students = sum(age_students.values())\n",
        "total_age = sum( age * num_of_students  for age, num_of_students in age_students.items())\n",
        "average_python = total_age / total_students\n",
        "\n",
        "ages = list(age_students.keys())\n",
        "students = list(age_students.values())\n",
        "average_np = np.average(ages, weights=students)\n",
        "\n",
        "average_python, average_np\n"
      ],
      "metadata": {
        "id": "RdIU4M-7T8R4",
        "colab": {
          "base_uri": "https://localhost:8080/"
        },
        "outputId": "bfdf2279-cba9-4f80-f366-0df5c09aed47"
      },
      "execution_count": 15,
      "outputs": [
        {
          "output_type": "execute_result",
          "data": {
            "text/plain": [
              "(17.280701754385966, 17.280701754385966)"
            ]
          },
          "metadata": {},
          "execution_count": 15
        }
      ]
    },
    {
      "cell_type": "markdown",
      "source": [
        "**Завдання 6**. Крім даних про суму покупок, ми зібрали ще дані про кількість відвідувань кожного з кожного покупця, які знаходяться в змінній `visits`. Обчисліть коефіцієнт кореляції Пірсона для суми покупок і кількості відвідувань кожним з зазначених методів:  \n",
        "\n",
        "  6.1. без використання жодних бібліотек, користуючись тільки Python.  \n",
        "  6.2. використовуючи відповідний метод бібліотеки numpy.  \n",
        "  \n",
        "Виведіть результат на екран. Проаналізуйте результат.\n",
        "\n",
        "Виведіть додатково графік розсіювання викликавши код нижче і зробіть заключення, чи варто щось змінити при підрахунку кореляції, аби коефіцієнт Пірсона показував коректну оцінку лінійної залежності?"
      ],
      "metadata": {
        "id": "Xx8MFkkVM53z"
      }
    },
    {
      "cell_type": "code",
      "source": [
        "visits = [ 6,  2, 10,  3,  9,  9,  2,  3,  6,  6, 10,  2,  5, 10,  3,  5,  4,\n",
        "        7,  4,  2]"
      ],
      "metadata": {
        "id": "4OIGBT7UOWhO"
      },
      "execution_count": 16,
      "outputs": []
    },
    {
      "cell_type": "code",
      "source": [
        "x_mean = np.mean(sum_purchases)\n",
        "y_mean = np.mean(visits)\n",
        "n = len(visits)\n",
        "\n",
        "cov_xy = 1/(n-1) * sum( (x - x_mean)*(y - y_mean) for x,y in zip(sum_purchases, visits))\n",
        "std_x_sample = np.sqrt(1/(n-1) * sum( (x - x_mean)**2 for x in sum_purchases))\n",
        "std_y_sample = np.sqrt(1/(n-1) * sum( (y - y_mean)**2 for y in visits))\n",
        "\n",
        "pearson_python = cov_xy / (std_x_sample * std_y_sample)\n",
        "\n",
        "pearson_np = np.corrcoef(sum_purchases, visits)\n",
        "\n",
        "pearson_python, pearson_np"
      ],
      "metadata": {
        "id": "YLNF7VbeT97Q",
        "colab": {
          "base_uri": "https://localhost:8080/"
        },
        "outputId": "f3b89899-1614-4607-f8b5-757e077108f7"
      },
      "execution_count": 24,
      "outputs": [
        {
          "output_type": "execute_result",
          "data": {
            "text/plain": [
              "(-0.30265844687666466,\n",
              " array([[ 1.        , -0.30265845],\n",
              "        [-0.30265845,  1.        ]]))"
            ]
          },
          "metadata": {},
          "execution_count": 24
        }
      ]
    },
    {
      "cell_type": "code",
      "source": [
        "import matplotlib.pyplot as plt\n",
        "\n",
        "plt.scatter(sum_purchases, visits)\n",
        "plt.title('Scatter Plot of Purchases vs. Visits')\n",
        "plt.xlabel('Sum of Purchases')\n",
        "plt.ylabel('Number of Visits');"
      ],
      "metadata": {
        "colab": {
          "base_uri": "https://localhost:8080/",
          "height": 472
        },
        "id": "gaeoGA-5Prr1",
        "outputId": "03d9c0dd-e977-48d5-e6b1-3bfcf5b47004"
      },
      "execution_count": 17,
      "outputs": [
        {
          "output_type": "display_data",
          "data": {
            "text/plain": [
              "<Figure size 640x480 with 1 Axes>"
            ],
            "image/png": "[encoded data removed]"
          },
          "metadata": {}
        }
      ]
    },
    {
      "cell_type": "markdown",
      "source": [
        "**Завдання 7**. В попередньому завданні ми помітили, що викиди нам заважають отримати \"правдиве\" значення кореляції. Давайте вилучимо записи, які відповідають значенням з викидами в сумі покупок і обчисліть коеф. кореляції. Для цього поставте `threshold`, який дорінює середньому значенню + 2 стандартних вдіхилля суми покупок і всі значення, які більше за нього, будемо вважати викидами (є і інші правила для визначення викидів - з ним и познайомимось пізніше).\n",
        "\n",
        "Вилучіть значення з обох масивів і обчисліть коеф. кореляції Пірсона з допомогою `numpy` для кількості візитів і суми покупок без записів-викидів. Виведіть результат на екран, побудуйте діаграму розсіювання і проаналізуйте результат: що можемо сказати про залежність в даних?"
      ],
      "metadata": {
        "id": "4pEg0KzSQ6KA"
      }
    },
    {
      "cell_type": "code",
      "source": [
        "threshold = np.mean(sum_purchases) + 2 * np.std(sum_purchases, ddof=1)\n",
        "\n",
        "outliers = sum_purchases > threshold\n",
        "\n",
        "filtered_sum_purchases = np.array(sum_purchases)[~outliers]\n",
        "\n",
        "filtered_visits = np.array(visits)[~outliers]\n",
        "\n",
        "np.corrcoef(filtered_sum_purchases, filtered_visits)"
      ],
      "metadata": {
        "id": "Yj3Yfaf7UBbc",
        "colab": {
          "base_uri": "https://localhost:8080/"
        },
        "outputId": "d64f51dc-ec45-4bbf-dbe3-ee6bab0bf8c6"
      },
      "execution_count": 41,
      "outputs": [
        {
          "output_type": "execute_result",
          "data": {
            "text/plain": [
              "array([[ 1.        , -0.36852121],\n",
              "       [-0.36852121,  1.        ]])"
            ]
          },
          "metadata": {},
          "execution_count": 41
        }
      ]
    },
    {
      "cell_type": "code",
      "source": [
        "plt.scatter(filtered_sum_purchases, filtered_visits)\n",
        "plt.title('Scatter Plot of Purchases vs. Visits (filtered)')\n",
        "plt.xlabel('Sum of Purchases (fitered)')\n",
        "plt.ylabel('Number of Visits (filtered)');"
      ],
      "metadata": {
        "colab": {
          "base_uri": "https://localhost:8080/",
          "height": 472
        },
        "id": "v0ryyt2H-NaW",
        "outputId": "fb34eb15-a0e6-4912-802a-f6409bf93ee5"
      },
      "execution_count": 43,
      "outputs": [
        {
          "output_type": "display_data",
          "data": {
            "text/plain": [
              "<Figure size 640x480 with 1 Axes>"
            ],
            "image/png": "[encoded data removed]"
          },
          "metadata": {}
        }
      ]
    },
    {
      "cell_type": "markdown",
      "source": [],
      "metadata": {
        "id": "jpMXygCE_Lzy"
      }
    },
    {
      "cell_type": "markdown",
      "source": [
        "**Відповідь:**\n",
        "\n",
        "Вилучення викидів з данних (2 записи про покупки) дозволило прискіпливіше дослідити вибірку даних. Перерахований коефіцієнт кореляції Пірсона становить приблизно -0.369. Це показує, що між кількістю покупок та кількістю відвідувань є слабка зворотня залежність. Це означає, що зі збільшення одного показника інший має тенденцію зменшуватися, але ця тенденція не є виразною.\n",
        "\n",
        "Дані на графіку розсіяні і між ними не вдається провести лінію, тобто кореляція слабка, а саме - вищі суми покупок не обовʼязково передбачають меншу кількість відвідувань, і навпаки.\n",
        "\n",
        "Також слабка кореляція вказує, що на взаємовзʼязок можуть впливати інші фактори або що взаємозвʼязок покупок та відвідувань не є лінійним. Ці фактори може бути корисно дослідити."
      ],
      "metadata": {
        "id": "sQ6vZAVa_kDs"
      }
    }
  ]
}